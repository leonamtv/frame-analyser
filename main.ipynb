{
 "cells": [
  {
   "cell_type": "code",
   "execution_count": 57,
   "metadata": {},
   "outputs": [],
   "source": [
    "import os\n",
    "from colorthief import ColorThief\n",
    "import numpy as np\n",
    "import cv2\n",
    "import regex as re"
   ]
  },
  {
   "cell_type": "code",
   "execution_count": 33,
   "metadata": {},
   "outputs": [],
   "source": [
    "VIDEO_PATH = '/home/leonamtv/Vídeos/BR2049.mp4'\n",
    "# VIDEO_PATH = '/home/leonamtv/Vídeos/moonlight.mp4'\n",
    "frame_pace = 600"
   ]
  },
  {
   "cell_type": "code",
   "execution_count": 39,
   "metadata": {},
   "outputs": [
    {
     "data": {
      "text/plain": [
       "True"
      ]
     },
     "execution_count": 39,
     "metadata": {},
     "output_type": "execute_result"
    }
   ],
   "source": [
    "os.path.isfile(VIDEO_PATH)"
   ]
  },
  {
   "cell_type": "code",
   "execution_count": 35,
   "metadata": {},
   "outputs": [],
   "source": [
    "cap = cv2.VideoCapture(VIDEO_PATH)"
   ]
  },
  {
   "cell_type": "code",
   "execution_count": 36,
   "metadata": {},
   "outputs": [
    {
     "name": "stdout",
     "output_type": "stream",
     "text": [
      "235152 800 1920 23\n"
     ]
    }
   ],
   "source": [
    "if not cap.isOpened(): \n",
    "    print(\"could not open\")\n",
    "else:\n",
    "    length = int(cap.get(cv2.CAP_PROP_FRAME_COUNT))\n",
    "    height = int(cap.get(cv2.CAP_PROP_FRAME_HEIGHT))\n",
    "    width  = int(cap.get(cv2.CAP_PROP_FRAME_WIDTH))\n",
    "    fps    = int(cap.get(cv2.CAP_PROP_FPS))\n",
    "    print(length, height, width, fps)"
   ]
  },
  {
   "cell_type": "code",
   "execution_count": 37,
   "metadata": {},
   "outputs": [],
   "source": [
    "current_frame = 0\n",
    "success, frame = cap.read()\n",
    "while current_frame < length and success:\n",
    "    cap.set(1, current_frame)\n",
    "    if not cv2.imwrite('/home/leonamtv/MEGAsync/LINUX/PROJETOS/FRAME_ANALYSER/tmp/frame%d.png' % current_frame, frame):\n",
    "        raise Exception(\"Could not write image\")\n",
    "    success, frame = cap.read()\n",
    "    current_frame += frame_pace"
   ]
  },
  {
   "cell_type": "code",
   "execution_count": 76,
   "metadata": {},
   "outputs": [],
   "source": [
    "storage_folder = '/home/leonamtv/MEGAsync/LINUX/PROJETOS/FRAME_ANALYSER/tmp'\n",
    "output_folder  = '/home/leonamtv/MEGAsync/LINUX/PROJETOS/FRAME_ANALYSER/output'\n",
    "\n",
    "reg = r\"(?<=frame)([0-9]+)(?=\\.png)\"\n",
    "\n",
    "html = \"<html><body><title>Movie Palette</title><link rel='stylesheet' type='text/css' href='./style.css'><table>\"\n",
    "html += \"<tr><th>Frame</th><th>1st MCC</th><th>2nd MCC</th><th>3rd MCC</th><th>4th MCC</th><th>5th MCC</th><th>6th MCC</th><th>7th MCC</th></tr>\"\n",
    "\n",
    "from functools import cmp_to_key\n",
    "\n",
    "def sorting_function ( a, b ):\n",
    "    an, bn = int(re.search(reg, a).group(0)), int(re.search(reg, b).group(0))\n",
    "    return an - bn\n",
    "\n",
    "for file in sorted(os.listdir(storage_folder), key=cmp_to_key(sorting_function)):\n",
    "    colortf = ColorThief(os.path.join(storage_folder, file))\n",
    "    dominant = colortf.get_palette(color_count=8)\n",
    "    \n",
    "    title = re.search(reg, file)\n",
    "    \n",
    "    html += \"<tr><td class='title'>\" + title.group(0) + '</td>'\n",
    "    for color in dominant:\n",
    "        style = \"'background-color:rgb(%d, %d, %d)'\" % color\n",
    "        html += \"<td style=\" + style + \"></td>\"\n",
    "    html += '</tr>'\n",
    "html += '</table></body></html>'\n",
    "file = open(os.path.join(output_folder, 'index.html'),'w')\n",
    "file.write(html)\n",
    "file.close()"
   ]
  }
 ],
 "metadata": {
  "kernelspec": {
   "display_name": "Python 3",
   "language": "python",
   "name": "python3"
  },
  "language_info": {
   "codemirror_mode": {
    "name": "ipython",
    "version": 3
   },
   "file_extension": ".py",
   "mimetype": "text/x-python",
   "name": "python",
   "nbconvert_exporter": "python",
   "pygments_lexer": "ipython3",
   "version": "3.7.7"
  }
 },
 "nbformat": 4,
 "nbformat_minor": 4
}
